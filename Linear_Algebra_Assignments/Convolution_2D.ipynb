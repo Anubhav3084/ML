{
  "nbformat": 4,
  "nbformat_minor": 0,
  "metadata": {
    "colab": {
      "provenance": [],
      "authorship_tag": "ABX9TyOW21yOpuO8hAkfVL7cI6VF",
      "include_colab_link": true
    },
    "kernelspec": {
      "name": "python3",
      "display_name": "Python 3"
    },
    "language_info": {
      "name": "python"
    }
  },
  "cells": [
    {
      "cell_type": "markdown",
      "metadata": {
        "id": "view-in-github",
        "colab_type": "text"
      },
      "source": [
        "<a href=\"https://colab.research.google.com/github/Anubhav3084/ML/blob/main/Linear_Algebra_Assignments/Convolution_2D.ipynb\" target=\"_parent\"><img src=\"https://colab.research.google.com/assets/colab-badge.svg\" alt=\"Open In Colab\"/></a>"
      ]
    },
    {
      "cell_type": "code",
      "execution_count": null,
      "metadata": {
        "id": "qdxnc398L0x2"
      },
      "outputs": [],
      "source": [
        "import numpy as np\n",
        "from scipy import signal\n",
        "from keras.datasets import mnist\n",
        "import matplotlib.pyplot as plt"
      ]
    },
    {
      "cell_type": "code",
      "source": [
        "np.random.seed(20)"
      ],
      "metadata": {
        "id": "bVThSgHaMH9G"
      },
      "execution_count": null,
      "outputs": []
    },
    {
      "cell_type": "code",
      "source": [
        "(x_train, y_train), (x_test, y_test) = mnist.load_data()\n",
        "print(x_train.shape, y_train.shape, x_test.shape, y_test.shape)"
      ],
      "metadata": {
        "colab": {
          "base_uri": "https://localhost:8080/"
        },
        "id": "19FUmssMMKNb",
        "outputId": "026ba038-4354-461a-e888-82f4495589e1"
      },
      "execution_count": null,
      "outputs": [
        {
          "output_type": "stream",
          "name": "stdout",
          "text": [
            "(60000, 28, 28) (60000,) (10000, 28, 28) (10000,)\n"
          ]
        }
      ]
    },
    {
      "cell_type": "code",
      "source": [
        "A = np.random.randint(0, 2, size=(8, 6))\n",
        "A"
      ],
      "metadata": {
        "colab": {
          "base_uri": "https://localhost:8080/"
        },
        "id": "DWd64vOWMYdT",
        "outputId": "2776b740-be95-4d82-be5a-e286f04443cd"
      },
      "execution_count": null,
      "outputs": [
        {
          "output_type": "execute_result",
          "data": {
            "text/plain": [
              "array([[1, 0, 1, 1, 0, 0],\n",
              "       [1, 0, 1, 0, 1, 0],\n",
              "       [0, 0, 0, 1, 0, 0],\n",
              "       [1, 1, 0, 1, 0, 0],\n",
              "       [0, 0, 1, 1, 1, 1],\n",
              "       [1, 0, 0, 0, 1, 1],\n",
              "       [0, 1, 1, 0, 1, 1],\n",
              "       [1, 1, 1, 0, 0, 0]])"
            ]
          },
          "metadata": {},
          "execution_count": 4
        }
      ]
    },
    {
      "cell_type": "code",
      "source": [
        "B = np.array([[-1, 1], [1, -1]])\n",
        "B"
      ],
      "metadata": {
        "colab": {
          "base_uri": "https://localhost:8080/"
        },
        "id": "-gMDqTqWMdB-",
        "outputId": "79411aef-31c6-493f-f10b-b70e5c5b98bf"
      },
      "execution_count": null,
      "outputs": [
        {
          "output_type": "execute_result",
          "data": {
            "text/plain": [
              "array([[-1,  1],\n",
              "       [ 1, -1]])"
            ]
          },
          "metadata": {},
          "execution_count": 5
        }
      ]
    },
    {
      "cell_type": "code",
      "source": [
        "C = signal.convolve2d(A, B)\n",
        "C"
      ],
      "metadata": {
        "colab": {
          "base_uri": "https://localhost:8080/"
        },
        "id": "T3DhuGLzMhgw",
        "outputId": "f4a1ac55-5579-4e63-8b4b-120c79272be9"
      },
      "execution_count": null,
      "outputs": [
        {
          "output_type": "execute_result",
          "data": {
            "text/plain": [
              "array([[-1,  1, -1,  0,  1,  0,  0],\n",
              "       [ 0,  0,  0,  1, -2,  1,  0],\n",
              "       [ 1, -1,  1, -2,  2, -1,  0],\n",
              "       [-1,  0,  1,  0,  0,  0,  0],\n",
              "       [ 1,  0, -2,  1, -1,  0,  1],\n",
              "       [-1,  1,  1,  0, -1,  0,  0],\n",
              "       [ 1, -2,  0,  1,  0,  0,  0],\n",
              "       [-1,  1,  0,  0,  1,  0, -1],\n",
              "       [ 1,  0,  0, -1,  0,  0,  0]])"
            ]
          },
          "metadata": {},
          "execution_count": 6
        }
      ]
    },
    {
      "cell_type": "code",
      "source": [
        "def plot_convolution_on_mnist(digit):\n",
        "    y_digit = (y_train == digit)\n",
        "    x_digit = x_train[y_digit]\n",
        "    num_of_digits = x_digit.shape[0]\n",
        "    random_digit_index = np.random.randint(num_of_digits)\n",
        "    image = x_digit[random_digit_index]\n",
        "    D = np.array([-1, 1], ndmin=2)\n",
        "    \n",
        "    plt.figure()\n",
        "    plt.subplot(1,2,1)\n",
        "    plt.imshow(image)\n",
        "    plt.subplot(1,2,2)\n",
        "    plt.imshow(signal.convolve2d(image, D))\n",
        "    plt.show()"
      ],
      "metadata": {
        "id": "fEoQp8GfMr8H"
      },
      "execution_count": null,
      "outputs": []
    },
    {
      "cell_type": "code",
      "source": [
        "plot_convolution_on_mnist(3)\n",
        "plot_convolution_on_mnist(7)\n",
        "plot_convolution_on_mnist(4)"
      ],
      "metadata": {
        "colab": {
          "base_uri": "https://localhost:8080/",
          "height": 569
        },
        "id": "XGaCKLUdNu3F",
        "outputId": "3861957e-fc2a-48a9-fc01-0971ac59aa7d"
      },
      "execution_count": null,
      "outputs": [
        {
          "output_type": "display_data",
          "data": {
            "text/plain": [
              "<Figure size 432x288 with 2 Axes>"
            ],
            "image/png": "[encoded data removed]"
          },
          "metadata": {
            "needs_background": "light"
          }
        },
        {
          "output_type": "display_data",
          "data": {
            "text/plain": [
              "<Figure size 432x288 with 2 Axes>"
            ],
            "image/png": "[encoded data removed]"
          },
          "metadata": {
            "needs_background": "light"
          }
        },
        {
          "output_type": "display_data",
          "data": {
            "text/plain": [
              "<Figure size 432x288 with 2 Axes>"
            ],
            "image/png": "[encoded data removed]"
          },
          "metadata": {
            "needs_background": "light"
          }
        }
      ]
    }
  ]
}