{
  "nbformat": 4,
  "nbformat_minor": 0,
  "metadata": {
    "colab": {
      "provenance": [],
      "collapsed_sections": []
    },
    "kernelspec": {
      "name": "python3",
      "display_name": "Python 3"
    },
    "language_info": {
      "name": "python"
    }
  },
  "cells": [
    {
      "cell_type": "markdown",
      "source": [
        "## **Importing libraries and data**"
      ],
      "metadata": {
        "id": "-a7tUxzo2n8y"
      }
    },
    {
      "cell_type": "code",
      "execution_count": null,
      "metadata": {
        "colab": {
          "base_uri": "https://localhost:8080/"
        },
        "id": "QQtTKRkMBs3F",
        "outputId": "4c52613a-dd4a-4a95-8b79-629c29fff18c"
      },
      "outputs": [
        {
          "output_type": "stream",
          "name": "stdout",
          "text": [
            "Training Data: (60000, 28, 28)\n",
            "Training Labels: (60000,)\n",
            "Testing Data: (10000, 28, 28)\n",
            "Testing Labels: (10000,)\n"
          ]
        }
      ],
      "source": [
        "import sys\n",
        "import sklearn\n",
        "import matplotlib\n",
        "import numpy as np\n",
        "from sklearn import metrics\n",
        "\n",
        "from keras.datasets import mnist\n",
        "\n",
        "(x_train, y_train), (x_test, y_test) = mnist.load_data()\n",
        "\n",
        "print('Training Data: {}'.format(x_train.shape))\n",
        "print('Training Labels: {}'.format(y_train.shape))\n",
        "\n",
        "print('Testing Data: {}'.format(x_test.shape))\n",
        "print('Testing Labels: {}'.format(y_test.shape))"
      ]
    },
    {
      "cell_type": "code",
      "source": [
        "import matplotlib.pyplot as plt\n",
        "\n",
        "# python magic function\n",
        "%matplotlib inline\n",
        "\n",
        "# create figure with 3x3 subplots using matplotlib.pyplot\n",
        "fig, axs = plt.subplots(3, 3, figsize = (6, 6))\n",
        "plt.gray()\n",
        "\n",
        "# loop through subplots and add mnist images\n",
        "for i, ax in enumerate(axs.flat):\n",
        "    ax.matshow(x_train[i])\n",
        "    ax.axis('off')\n",
        "    ax.set_title('Number {}'.format(y_train[i]))\n",
        "    \n",
        "# display the figure\n",
        "fig.show()"
      ],
      "metadata": {
        "colab": {
          "base_uri": "https://localhost:8080/",
          "height": 378
        },
        "id": "UmFBOmRQB622",
        "outputId": "034be4bf-8c39-4031-f927-a8a9f5e14d07"
      },
      "execution_count": null,
      "outputs": [
        {
          "output_type": "display_data",
          "data": {
            "text/plain": [
              "<Figure size 432x432 with 9 Axes>"
            ],
            "image/png": "[encoded data removed]"
          },
          "metadata": {
            "needs_background": "light"
          }
        }
      ]
    },
    {
      "cell_type": "markdown",
      "source": [
        "## **Preprocessing data**"
      ],
      "metadata": {
        "id": "30CGwAyS2uPM"
      }
    },
    {
      "cell_type": "code",
      "source": [
        "data_0 = []\n",
        "label_0 = []\n",
        "data_1 = []\n",
        "label_1 = []\n",
        "data_2 = []\n",
        "label_2 = []\n",
        "data_3 = []\n",
        "label_3 = []\n",
        "data_4 = []\n",
        "label_4 = []\n",
        "data_5 = []\n",
        "label_5 = []\n",
        "data_6 = []\n",
        "label_6 = []\n",
        "data_7 = []\n",
        "label_7 = []\n",
        "data_8 = []\n",
        "label_8 = []\n",
        "data_9 = []\n",
        "label_9 = []\n",
        "\n",
        "for i in range(len(x_train)):\n",
        "    if y_train[i] == 0:\n",
        "        data_0.append(x_train[i])\n",
        "        label_0.append(y_train[i])\n",
        "    elif y_train[i] == 1:\n",
        "        data_1.append(x_train[i])\n",
        "        label_1.append(y_train[i])\n",
        "    elif y_train[i] == 2:\n",
        "        data_2.append(x_train[i])\n",
        "        label_2.append(y_train[i])\n",
        "    elif y_train[i] == 3:\n",
        "        data_3.append(x_train[i])\n",
        "        label_3.append(y_train[i])\n",
        "    elif y_train[i] == 4:\n",
        "        data_4.append(x_train[i])\n",
        "        label_4.append(y_train[i])\n",
        "    elif y_train[i] == 5:\n",
        "        data_5.append(x_train[i])\n",
        "        label_5.append(y_train[i])\n",
        "    elif y_train[i] == 6:\n",
        "        data_6.append(x_train[i])\n",
        "        label_6.append(y_train[i])\n",
        "    elif y_train[i] == 7:\n",
        "        data_7.append(x_train[i])\n",
        "        label_7.append(y_train[i])\n",
        "    elif y_train[i] == 8:\n",
        "        data_8.append(x_train[i])\n",
        "        label_8.append(y_train[i])\n",
        "    elif y_train[i] == 9:\n",
        "        data_9.append(x_train[i])\n",
        "        label_9.append(y_train[i])\n",
        "\n",
        "data_0 = np.array(data_0)\n",
        "data_1 = np.array(data_1)\n",
        "data_2 = np.array(data_2)\n",
        "data_3 = np.array(data_3)\n",
        "data_4 = np.array(data_4)\n",
        "data_5 = np.array(data_5)\n",
        "data_6 = np.array(data_6)\n",
        "data_7 = np.array(data_7)\n",
        "data_8 = np.array(data_8)\n",
        "data_9 = np.array(data_9)\n",
        "\n",
        "data_0 = data_0[:100]\n",
        "data_1 = data_1[:100]\n",
        "data_2 = data_2[:100]\n",
        "data_3 = data_3[:100]\n",
        "data_4 = data_4[:100]\n",
        "data_5 = data_5[:100]\n",
        "data_6 = data_6[:100]\n",
        "data_7 = data_7[:100]\n",
        "data_8 = data_8[:100]\n",
        "data_9 = data_9[:100]\n",
        "\n",
        "label_0 = label_0[:100]\n",
        "label_1 = label_1[:100]\n",
        "label_2 = label_2[:100]\n",
        "label_3 = label_3[:100]\n",
        "label_4 = label_4[:100]\n",
        "label_5 = label_5[:100]\n",
        "label_6 = label_6[:100]\n",
        "label_7 = label_7[:100]\n",
        "label_8 = label_8[:100]\n",
        "label_9 = label_9[:100]\n",
        "\n",
        "x_train = np.concatenate((data_0, data_1, data_2, data_3, data_4, data_5, data_6, data_7, data_8, data_9))\n",
        "y_train = np.concatenate((label_0, label_1, label_2, label_3, label_4, label_5, label_6, label_7, label_8, label_9))\n",
        "\n",
        "indices = np.random.permutation(x_train.shape[0])\n",
        "x_train = x_train[indices]\n",
        "y_train = y_train[indices]\n",
        "\n",
        "print(x_train.shape, x_train[0].shape)\n",
        "print(y_train.shape)"
      ],
      "metadata": {
        "colab": {
          "base_uri": "https://localhost:8080/"
        },
        "id": "JOX4FhL-24W7",
        "outputId": "9f966943-c9c2-43cf-ccf9-04d2995a394e"
      },
      "execution_count": null,
      "outputs": [
        {
          "output_type": "stream",
          "name": "stdout",
          "text": [
            "(1000, 28, 28) (28, 28)\n",
            "(1000,)\n"
          ]
        }
      ]
    },
    {
      "cell_type": "code",
      "source": [
        "index = 875\n",
        "print(y_train[index])\n",
        "plt.imshow(x_train[index])\n",
        "plt.show()"
      ],
      "metadata": {
        "colab": {
          "base_uri": "https://localhost:8080/",
          "height": 282
        },
        "id": "i6vFV9RJ60Fh",
        "outputId": "3134df7a-f2bc-4ac0-b18b-6f1d5c684f02"
      },
      "execution_count": null,
      "outputs": [
        {
          "output_type": "stream",
          "name": "stdout",
          "text": [
            "6\n"
          ]
        },
        {
          "output_type": "display_data",
          "data": {
            "text/plain": [
              "<Figure size 432x288 with 1 Axes>"
            ],
            "image/png": "[encoded data removed]"
          },
          "metadata": {
            "needs_background": "light"
          }
        }
      ]
    },
    {
      "cell_type": "code",
      "source": [
        "test_data_0 = []\n",
        "test_label_0 = []\n",
        "test_data_1 = []\n",
        "test_label_1 = []\n",
        "test_data_2 = []\n",
        "test_label_2 = []\n",
        "test_data_3 = []\n",
        "test_label_3 = []\n",
        "test_data_4 = []\n",
        "test_label_4 = []\n",
        "test_data_5 = []\n",
        "test_label_5 = []\n",
        "test_data_6 = []\n",
        "test_label_6 = []\n",
        "test_data_7 = []\n",
        "test_label_7 = []\n",
        "test_data_8 = []\n",
        "test_label_8 = []\n",
        "test_data_9 = []\n",
        "test_label_9 = []\n",
        "\n",
        "for i in range(len(x_test)):\n",
        "    if y_test[i] == 0:\n",
        "        test_data_0.append(x_test[i])\n",
        "        test_label_0.append(y_test[i])\n",
        "    elif y_test[i] == 1:\n",
        "        test_data_1.append(x_test[i])\n",
        "        test_label_1.append(y_test[i])\n",
        "    elif y_test[i] == 2:\n",
        "        test_data_2.append(x_test[i])\n",
        "        test_label_2.append(y_test[i])\n",
        "    elif y_test[i] == 3:\n",
        "        test_data_3.append(x_test[i])\n",
        "        test_label_3.append(y_test[i])\n",
        "    elif y_test[i] == 4:\n",
        "        test_data_4.append(x_test[i])\n",
        "        test_label_4.append(y_test[i])\n",
        "    elif y_test[i] == 5:\n",
        "        test_data_5.append(x_test[i])\n",
        "        test_label_5.append(y_test[i])\n",
        "    elif y_test[i] == 6:\n",
        "        test_data_6.append(x_test[i])\n",
        "        test_label_6.append(y_test[i])\n",
        "    elif y_test[i] == 7:\n",
        "        test_data_7.append(x_test[i])\n",
        "        test_label_7.append(y_test[i])\n",
        "    elif y_test[i] == 8:\n",
        "        test_data_8.append(x_test[i])\n",
        "        test_label_8.append(y_test[i])\n",
        "    elif y_test[i] == 9:\n",
        "        test_data_9.append(x_test[i])\n",
        "        test_label_9.append(y_test[i])\n",
        "\n",
        "test_data_0 = np.array(test_data_0)\n",
        "test_data_1 = np.array(test_data_1)\n",
        "test_data_2 = np.array(test_data_2)\n",
        "test_data_3 = np.array(test_data_3)\n",
        "test_data_4 = np.array(test_data_4)\n",
        "test_data_5 = np.array(test_data_5)\n",
        "test_data_6 = np.array(test_data_6)\n",
        "test_data_7 = np.array(test_data_7)\n",
        "test_data_8 = np.array(test_data_8)\n",
        "test_data_9 = np.array(test_data_9)\n",
        "\n",
        "test_data_0 = test_data_0[:5]\n",
        "test_data_1 = test_data_1[:5]\n",
        "test_data_2 = test_data_2[:5]\n",
        "test_data_3 = test_data_3[:5]\n",
        "test_data_4 = test_data_4[:5]\n",
        "test_data_5 = test_data_5[:5]\n",
        "test_data_6 = test_data_6[:5]\n",
        "test_data_7 = test_data_7[:5]\n",
        "test_data_8 = test_data_8[:5]\n",
        "test_data_9 = test_data_9[:5]\n",
        "\n",
        "test_label_0 = test_label_0[:5]\n",
        "test_label_1 = test_label_1[:5]\n",
        "test_label_2 = test_label_2[:5]\n",
        "test_label_3 = test_label_3[:5]\n",
        "test_label_4 = test_label_4[:5]\n",
        "test_label_5 = test_label_5[:5]\n",
        "test_label_6 = test_label_6[:5]\n",
        "test_label_7 = test_label_7[:5]\n",
        "test_label_8 = test_label_8[:5]\n",
        "test_label_9 = test_label_9[:5]\n",
        "\n",
        "x_test = np.concatenate((test_data_0, test_data_1, test_data_2, test_data_3, test_data_4, test_data_5, test_data_6, test_data_7, test_data_8, test_data_9))\n",
        "y_test = np.concatenate((test_label_0, test_label_1, test_label_2, test_label_3, test_label_4, test_label_5, test_label_6, test_label_7, test_label_8, test_label_9))\n",
        "\n",
        "indices = np.random.permutation(x_test.shape[0])\n",
        "x_test = x_test[indices]\n",
        "y_test = y_test[indices]\n",
        "\n",
        "print(x_test.shape, x_test[0].shape)\n",
        "print(y_test.shape)"
      ],
      "metadata": {
        "colab": {
          "base_uri": "https://localhost:8080/"
        },
        "id": "-yyFOzeVkRiQ",
        "outputId": "fe25bddc-00bb-471c-cc02-dba3e815f8fe"
      },
      "execution_count": null,
      "outputs": [
        {
          "output_type": "stream",
          "name": "stdout",
          "text": [
            "(50, 28, 28) (28, 28)\n",
            "(50,)\n"
          ]
        }
      ]
    },
    {
      "cell_type": "code",
      "source": [
        "# convert each image to 1 dimensional array\n",
        "X = x_train.reshape(len(x_train), -1)\n",
        "Y = y_train\n",
        "\n",
        "print(X.shape)\n",
        "print(X[0].shape)"
      ],
      "metadata": {
        "colab": {
          "base_uri": "https://localhost:8080/"
        },
        "id": "3twyHLU_CBzn",
        "outputId": "b4710302-7606-4583-b2e1-5825a627fc08"
      },
      "execution_count": null,
      "outputs": [
        {
          "output_type": "stream",
          "name": "stdout",
          "text": [
            "(1000, 784)\n",
            "(784,)\n"
          ]
        }
      ]
    },
    {
      "cell_type": "markdown",
      "source": [
        "## **Clustering**"
      ],
      "metadata": {
        "id": "_yPtTTdb4Jlj"
      }
    },
    {
      "cell_type": "code",
      "source": [
        "from sklearn.cluster import KMeans\n",
        "\n",
        "k = 20\n",
        "\n",
        "# Initialize KMeans model\n",
        "kmeans = KMeans(n_clusters = k, verbose = 1, n_init = 1, init = 'random')\n",
        "\n",
        "print(kmeans.get_params(deep=True))\n",
        "\n",
        "# Fit the model to the training data\n",
        "kmeans.fit(X)\n",
        "print(\"-----------------------------------------------\")\n",
        "print(f\"Number of iteration taken : {kmeans.n_iter_}\")\n",
        "print(\"-----------------------------------------------\")\n",
        "num_points = 0\n",
        "for i in range(k):\n",
        "    print(f\"Number of data points in cluster {i} : {(kmeans.labels_ == i).sum()}\")\n",
        "    num_points = num_points + (kmeans.labels_ == i).sum()\n",
        "print(\"-----------------------------------------------\")\n",
        "print(f\"Total number of data points : {num_points}\")"
      ],
      "metadata": {
        "colab": {
          "base_uri": "https://localhost:8080/"
        },
        "id": "Qdnzi29eDaet",
        "outputId": "dcde6091-c1a1-4b75-b2b0-aa321903a8ad"
      },
      "execution_count": null,
      "outputs": [
        {
          "output_type": "stream",
          "name": "stdout",
          "text": [
            "{'algorithm': 'auto', 'copy_x': True, 'init': 'random', 'max_iter': 300, 'n_clusters': 20, 'n_init': 1, 'random_state': None, 'tol': 0.0001, 'verbose': 1}\n",
            "Initialization complete\n",
            "Iteration 0, inertia 3668869958.0\n",
            "Iteration 1, inertia 2322024372.688057\n",
            "Iteration 2, inertia 2265178687.042141\n",
            "Iteration 3, inertia 2226485168.3085003\n",
            "Iteration 4, inertia 2192914268.418189\n",
            "Iteration 5, inertia 2170243984.2664657\n",
            "Iteration 6, inertia 2158555824.1504517\n",
            "Iteration 7, inertia 2148410136.8683004\n",
            "Iteration 8, inertia 2142263601.077495\n",
            "Iteration 9, inertia 2137409400.009594\n",
            "Iteration 10, inertia 2134838080.862504\n",
            "Iteration 11, inertia 2132302351.8174412\n",
            "Iteration 12, inertia 2129017572.7473876\n",
            "Iteration 13, inertia 2123006443.8012362\n",
            "Iteration 14, inertia 2113686274.9147344\n",
            "Iteration 15, inertia 2107627081.5639985\n",
            "Iteration 16, inertia 2106077543.753093\n",
            "Iteration 17, inertia 2105695234.3627138\n",
            "Converged at iteration 17: strict convergence.\n",
            "-----------------------------------------------\n",
            "Number of iteration taken : 18\n",
            "-----------------------------------------------\n",
            "Number of data points in cluster 0 : 89\n",
            "Number of data points in cluster 1 : 47\n",
            "Number of data points in cluster 2 : 56\n",
            "Number of data points in cluster 3 : 36\n",
            "Number of data points in cluster 4 : 44\n",
            "Number of data points in cluster 5 : 44\n",
            "Number of data points in cluster 6 : 56\n",
            "Number of data points in cluster 7 : 41\n",
            "Number of data points in cluster 8 : 22\n",
            "Number of data points in cluster 9 : 14\n",
            "Number of data points in cluster 10 : 36\n",
            "Number of data points in cluster 11 : 66\n",
            "Number of data points in cluster 12 : 39\n",
            "Number of data points in cluster 13 : 84\n",
            "Number of data points in cluster 14 : 68\n",
            "Number of data points in cluster 15 : 46\n",
            "Number of data points in cluster 16 : 60\n",
            "Number of data points in cluster 17 : 46\n",
            "Number of data points in cluster 18 : 41\n",
            "Number of data points in cluster 19 : 65\n",
            "-----------------------------------------------\n",
            "Total number of data points : 1000\n"
          ]
        }
      ]
    },
    {
      "cell_type": "code",
      "source": [
        "def infer_cluster_labels(kmeans, actual_labels):\n",
        "    \n",
        "    inferred_labels = []\n",
        "\n",
        "    for i in range(k):\n",
        "        indices = kmeans.labels_ == i\n",
        "        labels = actual_labels[indices]\n",
        "        if len(labels) == 0:\n",
        "            inferred_labels.append(np.random.randint(0,10))\n",
        "            continue\n",
        "        counts = np.bincount(labels)\n",
        "        max_index = np.argmax(counts)\n",
        "        inferred_labels.append(max_index)\n",
        "    #print(inferred_labels)\n",
        "    return inferred_labels\n",
        "\n",
        "def infer_data_labels(X, cluster_labels, kmeans):\n",
        "    \"\"\"\n",
        "    Determines label for each array, depending on the cluster it has been assigned to.\n",
        "    returns: predicted labels for each array\n",
        "    \"\"\"\n",
        "    \n",
        "    # empty array of len(X)\n",
        "    predicted_clusters = kmeans.predict(X)\n",
        "    #print(predicted_clusters)\n",
        "    predicted_labels = []\n",
        "\n",
        "    for i in range(len(X)):\n",
        "        predicted_labels.append(cluster_labels[predicted_clusters[i]])\n",
        "\n",
        "    return predicted_labels"
      ],
      "metadata": {
        "id": "xr4g_7d297we"
      },
      "execution_count": null,
      "outputs": []
    },
    {
      "cell_type": "code",
      "source": [
        "# record centroid values\n",
        "centroids = kmeans.cluster_centers_\n",
        "\n",
        "# reshape centroids into images\n",
        "images = centroids.reshape(20, 28, 28)\n",
        "images = images.astype(np.uint8)\n",
        "\n",
        "# determine cluster labels\n",
        "cluster_labels = infer_cluster_labels(kmeans, Y)\n",
        "\n",
        "# create figure with subplots using matplotlib.pyplot\n",
        "fig, axs = plt.subplots(5, 4, figsize = (12, 16))\n",
        "plt.gray()\n",
        "\n",
        "# loop through subplots and add centroid images\n",
        "for i, ax in enumerate(axs.flat):\n",
        "    \n",
        "    # determine inferred label using cluster_labels dictionary\n",
        "    for index, value in enumerate(cluster_labels):\n",
        "        if i == index:\n",
        "            ax.set_title('Inferred Label: {}'.format(value))\n",
        "    \n",
        "    # add image to subplot\n",
        "    ax.matshow(images[i])\n",
        "    ax.axis('off')\n",
        "    \n",
        "# display the figure\n",
        "fig.show()"
      ],
      "metadata": {
        "colab": {
          "base_uri": "https://localhost:8080/",
          "height": 920
        },
        "id": "EYatkL9NCeNN",
        "outputId": "e3a92973-2646-4721-f8c0-e9b59691cb16"
      },
      "execution_count": null,
      "outputs": [
        {
          "output_type": "display_data",
          "data": {
            "text/plain": [
              "<Figure size 864x1152 with 20 Axes>"
            ],
            "image/png": "[encoded data removed]"
          },
          "metadata": {
            "needs_background": "light"
          }
        }
      ]
    },
    {
      "cell_type": "code",
      "source": [
        "# test the infer_cluster_labels() and infer_data_labels() functions\n",
        "cluster_labels = infer_cluster_labels(kmeans, Y)\n",
        "predicted_labels = infer_data_labels(X, cluster_labels, kmeans)\n",
        "#print(predicted_labels)\n",
        "#print(Y)\n",
        "print(\"Training Accuracy : \", (predicted_labels == Y).sum() / len(Y))\n",
        "\n",
        "# test kmeans algorithm on testing dataset\n",
        "# convert each image to 1 dimensional array\n",
        "x_test = x_test.reshape(len(x_test),-1)\n",
        "\n",
        "# predict labels for testing data\n",
        "test_clusters = kmeans.predict(x_test)\n",
        "predicted_labels = infer_data_labels(x_test, cluster_labels, kmeans)\n",
        "    \n",
        "# calculate and print accuracy\n",
        "print('Testing Accuracy: {}\\n'.format(metrics.accuracy_score(y_test, predicted_labels)))"
      ],
      "metadata": {
        "colab": {
          "base_uri": "https://localhost:8080/"
        },
        "id": "e9GuLEZAEKCn",
        "outputId": "c3da0cd0-b7d2-49c8-cf14-46d406f64ab1"
      },
      "execution_count": null,
      "outputs": [
        {
          "output_type": "stream",
          "name": "stdout",
          "text": [
            "Training Accuracy :  0.691\n",
            "Testing Accuracy: 0.68\n",
            "\n"
          ]
        }
      ]
    },
    {
      "cell_type": "code",
      "source": [
        "clusters = [i for i in range(5,21)]\n",
        "total_inertia = []\n",
        "\n",
        "# test different numbers of clusters\n",
        "for n_clusters in clusters:\n",
        "    estimator = KMeans(n_clusters = n_clusters, n_init = 1, init = 'random')\n",
        "    estimator.fit(X)\n",
        "    \n",
        "    # print cluster metrics\n",
        "    total_inertia.append(estimator.inertia_)\n",
        "\n",
        "    # determine predicted labels\n",
        "    cluster_labels = infer_cluster_labels(estimator, Y)\n",
        "    predicted_Y = infer_data_labels(X, cluster_labels, estimator)\n",
        "    \n",
        "    # calculate and print accuracy\n",
        "    print(f'Number of Clusters: {estimator.n_clusters},    J_clust : {estimator.inertia_/1000},    Accuracy: {metrics.accuracy_score(Y, predicted_Y)},    Number of Iterations for convergence : {estimator.n_iter_}')"
      ],
      "metadata": {
        "colab": {
          "base_uri": "https://localhost:8080/"
        },
        "id": "GbQ3vonjDydh",
        "outputId": "96040f94-32ef-4d07-cd83-fab2dcedf6d8"
      },
      "execution_count": null,
      "outputs": [
        {
          "output_type": "stream",
          "name": "stdout",
          "text": [
            "Number of Clusters: 5,    J_clust : 2794293.977323035,    Accuracy: 0.319,    Number of Iterations for convergence : 18\n",
            "Number of Clusters: 6,    J_clust : 2714164.9003130016,    Accuracy: 0.373,    Number of Iterations for convergence : 20\n",
            "Number of Clusters: 7,    J_clust : 2619033.6451040143,    Accuracy: 0.424,    Number of Iterations for convergence : 48\n",
            "Number of Clusters: 8,    J_clust : 2563997.6612892244,    Accuracy: 0.443,    Number of Iterations for convergence : 21\n",
            "Number of Clusters: 9,    J_clust : 2479853.942656914,    Accuracy: 0.47,    Number of Iterations for convergence : 36\n",
            "Number of Clusters: 10,    J_clust : 2452046.178156371,    Accuracy: 0.499,    Number of Iterations for convergence : 17\n",
            "Number of Clusters: 11,    J_clust : 2402304.614763752,    Accuracy: 0.55,    Number of Iterations for convergence : 27\n",
            "Number of Clusters: 12,    J_clust : 2359036.5741124144,    Accuracy: 0.595,    Number of Iterations for convergence : 26\n",
            "Number of Clusters: 13,    J_clust : 2327159.9135670234,    Accuracy: 0.562,    Number of Iterations for convergence : 33\n",
            "Number of Clusters: 14,    J_clust : 2245814.8048357116,    Accuracy: 0.631,    Number of Iterations for convergence : 23\n",
            "Number of Clusters: 15,    J_clust : 2227011.964194642,    Accuracy: 0.626,    Number of Iterations for convergence : 27\n",
            "Number of Clusters: 16,    J_clust : 2195453.774760501,    Accuracy: 0.655,    Number of Iterations for convergence : 26\n",
            "Number of Clusters: 17,    J_clust : 2220345.4579179515,    Accuracy: 0.653,    Number of Iterations for convergence : 16\n",
            "Number of Clusters: 18,    J_clust : 2168113.445961965,    Accuracy: 0.65,    Number of Iterations for convergence : 21\n",
            "Number of Clusters: 19,    J_clust : 2125428.7457865216,    Accuracy: 0.719,    Number of Iterations for convergence : 22\n",
            "Number of Clusters: 20,    J_clust : 2110984.2368185646,    Accuracy: 0.669,    Number of Iterations for convergence : 16\n"
          ]
        }
      ]
    },
    {
      "cell_type": "code",
      "source": [
        "inertia = [i/1000 for i in total_inertia]\n",
        "plt.figure(figsize=(20, 10))\n",
        "plt.scatter(clusters, inertia)\n",
        "plt.show()"
      ],
      "metadata": {
        "colab": {
          "base_uri": "https://localhost:8080/",
          "height": 602
        },
        "id": "74rNoFqk_eqj",
        "outputId": "7639f531-4214-40ca-dd1f-25c45a7503f2"
      },
      "execution_count": null,
      "outputs": [
        {
          "output_type": "display_data",
          "data": {
            "text/plain": [
              "<Figure size 1440x720 with 1 Axes>"
            ],
            "image/png": "[encoded data removed]"
          },
          "metadata": {
            "needs_background": "light"
          }
        }
      ]
    }
  ]
}